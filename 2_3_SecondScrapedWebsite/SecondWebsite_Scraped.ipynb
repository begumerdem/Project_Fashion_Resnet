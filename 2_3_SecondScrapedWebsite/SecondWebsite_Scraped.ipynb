{
 "cells": [
  {
   "cell_type": "code",
   "execution_count": 1,
   "id": "89fa0c28",
   "metadata": {},
   "outputs": [],
   "source": [
    "import requests\n",
    "from bs4 import BeautifulSoup\n",
    "import pandas as pd\n",
    "import re"
   ]
  },
  {
   "cell_type": "code",
   "execution_count": 2,
   "id": "2255b1d4",
   "metadata": {},
   "outputs": [],
   "source": [
    "import urllib.request\n",
    "import ssl\n",
    "ssl._create_default_https_context = ssl._create_unverified_context"
   ]
  },
  {
   "cell_type": "code",
   "execution_count": 3,
   "id": "3447857d",
   "metadata": {},
   "outputs": [],
   "source": [
    "baseurl = \"https://shopnaclo.com/\"\n",
    "headers = {'User-Agent': 'Mozilla/5.0 (Windows NT 10.0; Win64; x64) AppleWebKit/537.36 (KHTML, like Gecko) Chrome/89.0.4389.82 Safari/537.36'}\n"
   ]
  },
  {
   "cell_type": "code",
   "execution_count": 4,
   "id": "f056dcbd",
   "metadata": {},
   "outputs": [],
   "source": [
    "url=\"https://shopnaclo.com/collections/all\""
   ]
  },
  {
   "cell_type": "code",
   "execution_count": 5,
   "id": "d9cd2c91",
   "metadata": {},
   "outputs": [
    {
     "data": {
      "text/plain": [
       "200"
      ]
     },
     "execution_count": 5,
     "metadata": {},
     "output_type": "execute_result"
    }
   ],
   "source": [
    "response = requests.get(url)\n",
    "response.status_code"
   ]
  },
  {
   "cell_type": "code",
   "execution_count": 13,
   "id": "1e0b11da",
   "metadata": {},
   "outputs": [],
   "source": [
    "product_names=[]\n",
    "k = requests.get(f'https://shopnaclo.com/collections/all')\n",
    "soup = BeautifulSoup(k.content, \"lxml\")\n",
    "for product in soup.findAll(\"p\",class_=\"grid__title\"):\n",
    "    product_names.append(product.text)\n",
    "    "
   ]
  },
  {
   "cell_type": "code",
   "execution_count": 20,
   "id": "6a615cab",
   "metadata": {},
   "outputs": [],
   "source": [
    "productnames=[]\n",
    "for i in product_names:\n",
    "    x = re.sub(\"\\n        \",\"\",i)\n",
    "    y = re.sub(\"\\n      \",\"\",x)\n",
    "    productnames.append(x)"
   ]
  },
  {
   "cell_type": "code",
   "execution_count": 25,
   "id": "cb714540",
   "metadata": {},
   "outputs": [
    {
     "name": "stdout",
     "output_type": "stream",
     "text": [
      "30\n"
     ]
    }
   ],
   "source": [
    "productlinks,product_links=[],[]\n",
    "productlist = soup.find_all(\"div\",class_=\"product-grid-item\")\n",
    "\n",
    "for item in productlist:\n",
    "    #print(item)\n",
    "    for link in item.find_all(\"a\",href=True):\n",
    "        product_links.append(baseurl + link['href'])\n",
    "    productlinks = list(dict.fromkeys(product_links))\n",
    "print(len(productlinks))"
   ]
  },
  {
   "cell_type": "code",
   "execution_count": 27,
   "id": "498d66bb",
   "metadata": {},
   "outputs": [],
   "source": [
    "prices=[]\n",
    "k = requests.get(f'https://shopnaclo.com/collections/all')\n",
    "soup = BeautifulSoup(k.content, \"lxml\")\n",
    "for price in soup.find_all(\"span\",class_=\"price\"):\n",
    "    prices.append(price.text)"
   ]
  },
  {
   "cell_type": "code",
   "execution_count": 29,
   "id": "1f53ab1c",
   "metadata": {},
   "outputs": [],
   "source": [
    "pricelist=[]\n",
    "for i in prices:\n",
    "    x = re.sub(\"\\n          From \\n          \",\"\",i)\n",
    "    y = re.sub(\"\\n        \",\"\",x)\n",
    "    z = re.sub(\"    \",\"\",y)\n",
    "    pricelist.append(z)"
   ]
  },
  {
   "cell_type": "code",
   "execution_count": 31,
   "id": "9f4f4585",
   "metadata": {},
   "outputs": [],
   "source": [
    "images_links=[]\n",
    "k = requests.get(f'https://shopnaclo.com/collections/all')\n",
    "\n",
    "soup = BeautifulSoup(k.content, \"lxml\")\n",
    "image_list = soup.find_all(\"img\",class_=\"lazyload fade-in collection__image__top\")\n",
    "for element in image_list:\n",
    "    images_links.append(element['data-src'])\n",
    "images_links = list(dict.fromkeys(images_links))"
   ]
  },
  {
   "cell_type": "code",
   "execution_count": 32,
   "id": "3c55412f",
   "metadata": {},
   "outputs": [
    {
     "data": {
      "text/plain": [
       "['//cdn.shopify.com/s/files/1/0554/3192/1821/products/welcometothefamily._180x.png?v=1630603915',\n",
       " '//cdn.shopify.com/s/files/1/0554/3192/1821/products/PurpleHoodiewithBackgroundcopy_180x.jpg?v=1633388603',\n",
       " '//cdn.shopify.com/s/files/1/0554/3192/1821/products/PurpleTshirtwithBackgroundcopy_180x.jpg?v=1633385695',\n",
       " '//cdn.shopify.com/s/files/1/0554/3192/1821/products/BleachPicturesfortheWebsiteREDSWEATPANTS1_180x.png?v=1626396896',\n",
       " '//cdn.shopify.com/s/files/1/0554/3192/1821/products/BleachPicturesfortheWebsiteREDSWEATSHIRT1_180x.png?v=1626397018',\n",
       " '//cdn.shopify.com/s/files/1/0554/3192/1821/products/RedSweatsuitSet_180x.jpg?v=1633397591',\n",
       " '//cdn.shopify.com/s/files/1/0554/3192/1821/products/RedTshirtcopy_180x.jpg?v=1626909432',\n",
       " '//cdn.shopify.com/s/files/1/0554/3192/1821/products/BleachPicturesfortheWebsiteSUNSHINESweatshirt_180x.png?v=1627412696',\n",
       " '//cdn.shopify.com/s/files/1/0554/3192/1821/products/BleachPicturesfortheWebsiteLAVAtshirt_180x.png?v=1627412982',\n",
       " '//cdn.shopify.com/s/files/1/0554/3192/1821/products/BleachPicturesfortheWebsiteMAPLESWEATPANTS1_180x.png?v=1626397112',\n",
       " '//cdn.shopify.com/s/files/1/0554/3192/1821/products/BleachPicturesfortheWebsiteMAPLESWEATSHIRT1_180x.png?v=1626397193',\n",
       " '//cdn.shopify.com/s/files/1/0554/3192/1821/products/BurgundySweatsuitSet_180x.jpg?v=1633399415',\n",
       " '//cdn.shopify.com/s/files/1/0554/3192/1821/products/maroontshirtcopy_180x.jpg?v=1626909741',\n",
       " '//cdn.shopify.com/s/files/1/0554/3192/1821/products/BleachPicturesfortheWebsiteMARIGOLDSweatshirt_180x.png?v=1627412047',\n",
       " '//cdn.shopify.com/s/files/1/0554/3192/1821/products/BleachPicturesfortheWebsiteMARIGOLDTshirt_180x.png?v=1627413065',\n",
       " '//cdn.shopify.com/s/files/1/0554/3192/1821/products/BleachPicturesfortheWebsiteMIDNIGHTSWEATPANTS1_180x.png?v=1626397290',\n",
       " '//cdn.shopify.com/s/files/1/0554/3192/1821/products/BleachPicturesfortheWebsiteMIDNIGHTSWEATSHIRT1_180x.png?v=1626397376',\n",
       " '//cdn.shopify.com/s/files/1/0554/3192/1821/products/NAVYSweatsuitSet_180x.jpg?v=1633397747',\n",
       " '//cdn.shopify.com/s/files/1/0554/3192/1821/products/NavyTshirtcopy_180x.jpg?v=1626909998',\n",
       " '//cdn.shopify.com/s/files/1/0554/3192/1821/products/BleachPicturesfortheWebsiteNOIRSWEATPANTS1_180x.png?v=1626397579',\n",
       " '//cdn.shopify.com/s/files/1/0554/3192/1821/products/BleachPicturesfortheWebsiteNOIRSWEATSHIRT1_180x.png?v=1626397623',\n",
       " '//cdn.shopify.com/s/files/1/0554/3192/1821/products/BlackSweatsuitSet_180x.jpg?v=1633398247',\n",
       " '//cdn.shopify.com/s/files/1/0554/3192/1821/products/BlackTshirtNEW_180x.jpg?v=1626910296',\n",
       " '//cdn.shopify.com/s/files/1/0554/3192/1821/products/Oxbloodnobackground_180x.jpg?v=1636422712',\n",
       " '//cdn.shopify.com/s/files/1/0554/3192/1821/products/SAGEwithBackgroundcopy_180x.jpg?v=1633387061',\n",
       " '//cdn.shopify.com/s/files/1/0554/3192/1821/products/SAGETshirtwithBackgroundcopy_180x.jpg?v=1633387509',\n",
       " '//cdn.shopify.com/s/files/1/0554/3192/1821/products/BleachPicturesfortheWebsiteSTONESWEATPANTS1_180x.png?v=1626397674',\n",
       " '//cdn.shopify.com/s/files/1/0554/3192/1821/products/BleachPicturesfortheWebsiteSTONESWEATSHIRT1_180x.png?v=1626397705',\n",
       " '//cdn.shopify.com/s/files/1/0554/3192/1821/products/StoneSweatsuitSet_180x.jpg?v=1633398456',\n",
       " '//cdn.shopify.com/s/files/1/0554/3192/1821/products/BlackHeathertshirt_180x.jpg?v=1626910348']"
      ]
     },
     "execution_count": 32,
     "metadata": {},
     "output_type": "execute_result"
    }
   ],
   "source": [
    "for i in range(len(images_links)):\n",
    "    images_links[i] =  re.sub(\"{width}\",\"180\",images_links[i])\n",
    "images_links "
   ]
  },
  {
   "cell_type": "code",
   "execution_count": null,
   "id": "f488c6a5",
   "metadata": {},
   "outputs": [],
   "source": [
    "# creating the dataframe"
   ]
  },
  {
   "cell_type": "code",
   "execution_count": 33,
   "id": "4bcaf4a5",
   "metadata": {},
   "outputs": [
    {
     "data": {
      "text/html": [
       "<div>\n",
       "<style scoped>\n",
       "    .dataframe tbody tr th:only-of-type {\n",
       "        vertical-align: middle;\n",
       "    }\n",
       "\n",
       "    .dataframe tbody tr th {\n",
       "        vertical-align: top;\n",
       "    }\n",
       "\n",
       "    .dataframe thead th {\n",
       "        text-align: right;\n",
       "    }\n",
       "</style>\n",
       "<table border=\"1\" class=\"dataframe\">\n",
       "  <thead>\n",
       "    <tr style=\"text-align: right;\">\n",
       "      <th></th>\n",
       "      <th>Product Link</th>\n",
       "      <th>Image Link</th>\n",
       "      <th>Price</th>\n",
       "      <th>Product Name</th>\n",
       "    </tr>\n",
       "  </thead>\n",
       "  <tbody>\n",
       "    <tr>\n",
       "      <th>0</th>\n",
       "      <td>https://shopnaclo.com//collections/all/product...</td>\n",
       "      <td>//cdn.shopify.com/s/files/1/0554/3192/1821/pro...</td>\n",
       "      <td>$10.00</td>\n",
       "      <td>Gift Card\\n</td>\n",
       "    </tr>\n",
       "    <tr>\n",
       "      <th>1</th>\n",
       "      <td>https://shopnaclo.com//collections/all/product...</td>\n",
       "      <td>//cdn.shopify.com/s/files/1/0554/3192/1821/pro...</td>\n",
       "      <td>$45.00</td>\n",
       "      <td>HAZE Sweatshirt\\n</td>\n",
       "    </tr>\n",
       "    <tr>\n",
       "      <th>2</th>\n",
       "      <td>https://shopnaclo.com//collections/all/product...</td>\n",
       "      <td>//cdn.shopify.com/s/files/1/0554/3192/1821/pro...</td>\n",
       "      <td>$30.00</td>\n",
       "      <td>HAZE T-shirt\\n</td>\n",
       "    </tr>\n",
       "    <tr>\n",
       "      <th>3</th>\n",
       "      <td>https://shopnaclo.com//collections/all/product...</td>\n",
       "      <td>//cdn.shopify.com/s/files/1/0554/3192/1821/pro...</td>\n",
       "      <td>$45.00</td>\n",
       "      <td>HEAT Sweatpants\\n</td>\n",
       "    </tr>\n",
       "    <tr>\n",
       "      <th>4</th>\n",
       "      <td>https://shopnaclo.com//collections/all/product...</td>\n",
       "      <td>//cdn.shopify.com/s/files/1/0554/3192/1821/pro...</td>\n",
       "      <td>$45.00</td>\n",
       "      <td>HEAT Sweatshirt\\n</td>\n",
       "    </tr>\n",
       "    <tr>\n",
       "      <th>5</th>\n",
       "      <td>https://shopnaclo.com//collections/all/product...</td>\n",
       "      <td>//cdn.shopify.com/s/files/1/0554/3192/1821/pro...</td>\n",
       "      <td>$90.00</td>\n",
       "      <td>HEAT Sweatsuit Set\\n</td>\n",
       "    </tr>\n",
       "    <tr>\n",
       "      <th>6</th>\n",
       "      <td>https://shopnaclo.com//collections/all/product...</td>\n",
       "      <td>//cdn.shopify.com/s/files/1/0554/3192/1821/pro...</td>\n",
       "      <td>$30.00</td>\n",
       "      <td>HEAT T-shirt\\n</td>\n",
       "    </tr>\n",
       "    <tr>\n",
       "      <th>7</th>\n",
       "      <td>https://shopnaclo.com//collections/all/product...</td>\n",
       "      <td>//cdn.shopify.com/s/files/1/0554/3192/1821/pro...</td>\n",
       "      <td>$45.00</td>\n",
       "      <td>LAVA Sweatshirt\\n</td>\n",
       "    </tr>\n",
       "    <tr>\n",
       "      <th>8</th>\n",
       "      <td>https://shopnaclo.com//collections/all/product...</td>\n",
       "      <td>//cdn.shopify.com/s/files/1/0554/3192/1821/pro...</td>\n",
       "      <td>$30.00</td>\n",
       "      <td>LAVA T-shirt\\n</td>\n",
       "    </tr>\n",
       "    <tr>\n",
       "      <th>9</th>\n",
       "      <td>https://shopnaclo.com//collections/all/product...</td>\n",
       "      <td>//cdn.shopify.com/s/files/1/0554/3192/1821/pro...</td>\n",
       "      <td>$45.00</td>\n",
       "      <td>MAPLE Sweatpants\\n</td>\n",
       "    </tr>\n",
       "    <tr>\n",
       "      <th>10</th>\n",
       "      <td>https://shopnaclo.com//collections/all/product...</td>\n",
       "      <td>//cdn.shopify.com/s/files/1/0554/3192/1821/pro...</td>\n",
       "      <td>$45.00</td>\n",
       "      <td>MAPLE Sweatshirt\\n</td>\n",
       "    </tr>\n",
       "    <tr>\n",
       "      <th>11</th>\n",
       "      <td>https://shopnaclo.com//collections/all/product...</td>\n",
       "      <td>//cdn.shopify.com/s/files/1/0554/3192/1821/pro...</td>\n",
       "      <td>$90.00</td>\n",
       "      <td>MAPLE Sweatsuit Set\\n</td>\n",
       "    </tr>\n",
       "    <tr>\n",
       "      <th>12</th>\n",
       "      <td>https://shopnaclo.com//collections/all/product...</td>\n",
       "      <td>//cdn.shopify.com/s/files/1/0554/3192/1821/pro...</td>\n",
       "      <td>$30.00</td>\n",
       "      <td>MAPLE T-shirt\\n</td>\n",
       "    </tr>\n",
       "    <tr>\n",
       "      <th>13</th>\n",
       "      <td>https://shopnaclo.com//collections/all/product...</td>\n",
       "      <td>//cdn.shopify.com/s/files/1/0554/3192/1821/pro...</td>\n",
       "      <td>$45.00</td>\n",
       "      <td>MARIGOLD Sweatshirt\\n</td>\n",
       "    </tr>\n",
       "    <tr>\n",
       "      <th>14</th>\n",
       "      <td>https://shopnaclo.com//collections/all/product...</td>\n",
       "      <td>//cdn.shopify.com/s/files/1/0554/3192/1821/pro...</td>\n",
       "      <td>$30.00</td>\n",
       "      <td>MARIGOLD T-shirt\\n</td>\n",
       "    </tr>\n",
       "    <tr>\n",
       "      <th>15</th>\n",
       "      <td>https://shopnaclo.com//collections/all/product...</td>\n",
       "      <td>//cdn.shopify.com/s/files/1/0554/3192/1821/pro...</td>\n",
       "      <td>$45.00</td>\n",
       "      <td>MIDNIGHT Sweatpants\\n</td>\n",
       "    </tr>\n",
       "    <tr>\n",
       "      <th>16</th>\n",
       "      <td>https://shopnaclo.com//collections/all/product...</td>\n",
       "      <td>//cdn.shopify.com/s/files/1/0554/3192/1821/pro...</td>\n",
       "      <td>$45.00</td>\n",
       "      <td>MIDNIGHT Sweatshirt\\n</td>\n",
       "    </tr>\n",
       "    <tr>\n",
       "      <th>17</th>\n",
       "      <td>https://shopnaclo.com//collections/all/product...</td>\n",
       "      <td>//cdn.shopify.com/s/files/1/0554/3192/1821/pro...</td>\n",
       "      <td>$90.00</td>\n",
       "      <td>MIDNIGHT Sweatsuit Set\\n</td>\n",
       "    </tr>\n",
       "    <tr>\n",
       "      <th>18</th>\n",
       "      <td>https://shopnaclo.com//collections/all/product...</td>\n",
       "      <td>//cdn.shopify.com/s/files/1/0554/3192/1821/pro...</td>\n",
       "      <td>$30.00</td>\n",
       "      <td>MIDNIGHT T-shirt\\n</td>\n",
       "    </tr>\n",
       "    <tr>\n",
       "      <th>19</th>\n",
       "      <td>https://shopnaclo.com//collections/all/product...</td>\n",
       "      <td>//cdn.shopify.com/s/files/1/0554/3192/1821/pro...</td>\n",
       "      <td>$45.00</td>\n",
       "      <td>NOIR Sweatpants\\n</td>\n",
       "    </tr>\n",
       "    <tr>\n",
       "      <th>20</th>\n",
       "      <td>https://shopnaclo.com//collections/all/product...</td>\n",
       "      <td>//cdn.shopify.com/s/files/1/0554/3192/1821/pro...</td>\n",
       "      <td>$45.00</td>\n",
       "      <td>NOIR Sweatshirt\\n</td>\n",
       "    </tr>\n",
       "    <tr>\n",
       "      <th>21</th>\n",
       "      <td>https://shopnaclo.com//collections/all/product...</td>\n",
       "      <td>//cdn.shopify.com/s/files/1/0554/3192/1821/pro...</td>\n",
       "      <td>$90.00</td>\n",
       "      <td>NOIR Sweatsuit Set\\n</td>\n",
       "    </tr>\n",
       "    <tr>\n",
       "      <th>22</th>\n",
       "      <td>https://shopnaclo.com//collections/all/product...</td>\n",
       "      <td>//cdn.shopify.com/s/files/1/0554/3192/1821/pro...</td>\n",
       "      <td>$30.00</td>\n",
       "      <td>NOIR T-shirt\\n</td>\n",
       "    </tr>\n",
       "    <tr>\n",
       "      <th>23</th>\n",
       "      <td>https://shopnaclo.com//collections/all/product...</td>\n",
       "      <td>//cdn.shopify.com/s/files/1/0554/3192/1821/pro...</td>\n",
       "      <td>$45.00</td>\n",
       "      <td>OXBLOOD Sweatshirt\\n</td>\n",
       "    </tr>\n",
       "    <tr>\n",
       "      <th>24</th>\n",
       "      <td>https://shopnaclo.com//collections/all/product...</td>\n",
       "      <td>//cdn.shopify.com/s/files/1/0554/3192/1821/pro...</td>\n",
       "      <td>$45.00</td>\n",
       "      <td>SAGE Sweatshirt\\n</td>\n",
       "    </tr>\n",
       "    <tr>\n",
       "      <th>25</th>\n",
       "      <td>https://shopnaclo.com//collections/all/product...</td>\n",
       "      <td>//cdn.shopify.com/s/files/1/0554/3192/1821/pro...</td>\n",
       "      <td>$30.00</td>\n",
       "      <td>SAGE T-shirt\\n</td>\n",
       "    </tr>\n",
       "    <tr>\n",
       "      <th>26</th>\n",
       "      <td>https://shopnaclo.com//collections/all/product...</td>\n",
       "      <td>//cdn.shopify.com/s/files/1/0554/3192/1821/pro...</td>\n",
       "      <td>$45.00</td>\n",
       "      <td>STONE Sweatpants\\n</td>\n",
       "    </tr>\n",
       "    <tr>\n",
       "      <th>27</th>\n",
       "      <td>https://shopnaclo.com//collections/all/product...</td>\n",
       "      <td>//cdn.shopify.com/s/files/1/0554/3192/1821/pro...</td>\n",
       "      <td>$45.00</td>\n",
       "      <td>STONE Sweatshirt\\n</td>\n",
       "    </tr>\n",
       "    <tr>\n",
       "      <th>28</th>\n",
       "      <td>https://shopnaclo.com//collections/all/product...</td>\n",
       "      <td>//cdn.shopify.com/s/files/1/0554/3192/1821/pro...</td>\n",
       "      <td>$90.00</td>\n",
       "      <td>STONE Sweatsuit Set\\n</td>\n",
       "    </tr>\n",
       "    <tr>\n",
       "      <th>29</th>\n",
       "      <td>https://shopnaclo.com//collections/all/product...</td>\n",
       "      <td>//cdn.shopify.com/s/files/1/0554/3192/1821/pro...</td>\n",
       "      <td>$30.00</td>\n",
       "      <td>STONE T-shirt\\n</td>\n",
       "    </tr>\n",
       "  </tbody>\n",
       "</table>\n",
       "</div>"
      ],
      "text/plain": [
       "                                         Product Link  \\\n",
       "0   https://shopnaclo.com//collections/all/product...   \n",
       "1   https://shopnaclo.com//collections/all/product...   \n",
       "2   https://shopnaclo.com//collections/all/product...   \n",
       "3   https://shopnaclo.com//collections/all/product...   \n",
       "4   https://shopnaclo.com//collections/all/product...   \n",
       "5   https://shopnaclo.com//collections/all/product...   \n",
       "6   https://shopnaclo.com//collections/all/product...   \n",
       "7   https://shopnaclo.com//collections/all/product...   \n",
       "8   https://shopnaclo.com//collections/all/product...   \n",
       "9   https://shopnaclo.com//collections/all/product...   \n",
       "10  https://shopnaclo.com//collections/all/product...   \n",
       "11  https://shopnaclo.com//collections/all/product...   \n",
       "12  https://shopnaclo.com//collections/all/product...   \n",
       "13  https://shopnaclo.com//collections/all/product...   \n",
       "14  https://shopnaclo.com//collections/all/product...   \n",
       "15  https://shopnaclo.com//collections/all/product...   \n",
       "16  https://shopnaclo.com//collections/all/product...   \n",
       "17  https://shopnaclo.com//collections/all/product...   \n",
       "18  https://shopnaclo.com//collections/all/product...   \n",
       "19  https://shopnaclo.com//collections/all/product...   \n",
       "20  https://shopnaclo.com//collections/all/product...   \n",
       "21  https://shopnaclo.com//collections/all/product...   \n",
       "22  https://shopnaclo.com//collections/all/product...   \n",
       "23  https://shopnaclo.com//collections/all/product...   \n",
       "24  https://shopnaclo.com//collections/all/product...   \n",
       "25  https://shopnaclo.com//collections/all/product...   \n",
       "26  https://shopnaclo.com//collections/all/product...   \n",
       "27  https://shopnaclo.com//collections/all/product...   \n",
       "28  https://shopnaclo.com//collections/all/product...   \n",
       "29  https://shopnaclo.com//collections/all/product...   \n",
       "\n",
       "                                           Image Link   Price  \\\n",
       "0   //cdn.shopify.com/s/files/1/0554/3192/1821/pro...  $10.00   \n",
       "1   //cdn.shopify.com/s/files/1/0554/3192/1821/pro...  $45.00   \n",
       "2   //cdn.shopify.com/s/files/1/0554/3192/1821/pro...  $30.00   \n",
       "3   //cdn.shopify.com/s/files/1/0554/3192/1821/pro...  $45.00   \n",
       "4   //cdn.shopify.com/s/files/1/0554/3192/1821/pro...  $45.00   \n",
       "5   //cdn.shopify.com/s/files/1/0554/3192/1821/pro...  $90.00   \n",
       "6   //cdn.shopify.com/s/files/1/0554/3192/1821/pro...  $30.00   \n",
       "7   //cdn.shopify.com/s/files/1/0554/3192/1821/pro...  $45.00   \n",
       "8   //cdn.shopify.com/s/files/1/0554/3192/1821/pro...  $30.00   \n",
       "9   //cdn.shopify.com/s/files/1/0554/3192/1821/pro...  $45.00   \n",
       "10  //cdn.shopify.com/s/files/1/0554/3192/1821/pro...  $45.00   \n",
       "11  //cdn.shopify.com/s/files/1/0554/3192/1821/pro...  $90.00   \n",
       "12  //cdn.shopify.com/s/files/1/0554/3192/1821/pro...  $30.00   \n",
       "13  //cdn.shopify.com/s/files/1/0554/3192/1821/pro...  $45.00   \n",
       "14  //cdn.shopify.com/s/files/1/0554/3192/1821/pro...  $30.00   \n",
       "15  //cdn.shopify.com/s/files/1/0554/3192/1821/pro...  $45.00   \n",
       "16  //cdn.shopify.com/s/files/1/0554/3192/1821/pro...  $45.00   \n",
       "17  //cdn.shopify.com/s/files/1/0554/3192/1821/pro...  $90.00   \n",
       "18  //cdn.shopify.com/s/files/1/0554/3192/1821/pro...  $30.00   \n",
       "19  //cdn.shopify.com/s/files/1/0554/3192/1821/pro...  $45.00   \n",
       "20  //cdn.shopify.com/s/files/1/0554/3192/1821/pro...  $45.00   \n",
       "21  //cdn.shopify.com/s/files/1/0554/3192/1821/pro...  $90.00   \n",
       "22  //cdn.shopify.com/s/files/1/0554/3192/1821/pro...  $30.00   \n",
       "23  //cdn.shopify.com/s/files/1/0554/3192/1821/pro...  $45.00   \n",
       "24  //cdn.shopify.com/s/files/1/0554/3192/1821/pro...  $45.00   \n",
       "25  //cdn.shopify.com/s/files/1/0554/3192/1821/pro...  $30.00   \n",
       "26  //cdn.shopify.com/s/files/1/0554/3192/1821/pro...  $45.00   \n",
       "27  //cdn.shopify.com/s/files/1/0554/3192/1821/pro...  $45.00   \n",
       "28  //cdn.shopify.com/s/files/1/0554/3192/1821/pro...  $90.00   \n",
       "29  //cdn.shopify.com/s/files/1/0554/3192/1821/pro...  $30.00   \n",
       "\n",
       "                      Product Name  \n",
       "0                Gift Card\\n        \n",
       "1          HAZE Sweatshirt\\n        \n",
       "2             HAZE T-shirt\\n        \n",
       "3          HEAT Sweatpants\\n        \n",
       "4          HEAT Sweatshirt\\n        \n",
       "5       HEAT Sweatsuit Set\\n        \n",
       "6             HEAT T-shirt\\n        \n",
       "7          LAVA Sweatshirt\\n        \n",
       "8             LAVA T-shirt\\n        \n",
       "9         MAPLE Sweatpants\\n        \n",
       "10        MAPLE Sweatshirt\\n        \n",
       "11     MAPLE Sweatsuit Set\\n        \n",
       "12           MAPLE T-shirt\\n        \n",
       "13     MARIGOLD Sweatshirt\\n        \n",
       "14        MARIGOLD T-shirt\\n        \n",
       "15     MIDNIGHT Sweatpants\\n        \n",
       "16     MIDNIGHT Sweatshirt\\n        \n",
       "17  MIDNIGHT Sweatsuit Set\\n        \n",
       "18        MIDNIGHT T-shirt\\n        \n",
       "19         NOIR Sweatpants\\n        \n",
       "20         NOIR Sweatshirt\\n        \n",
       "21      NOIR Sweatsuit Set\\n        \n",
       "22            NOIR T-shirt\\n        \n",
       "23      OXBLOOD Sweatshirt\\n        \n",
       "24         SAGE Sweatshirt\\n        \n",
       "25            SAGE T-shirt\\n        \n",
       "26        STONE Sweatpants\\n        \n",
       "27        STONE Sweatshirt\\n        \n",
       "28     STONE Sweatsuit Set\\n        \n",
       "29           STONE T-shirt\\n        "
      ]
     },
     "execution_count": 33,
     "metadata": {},
     "output_type": "execute_result"
    }
   ],
   "source": [
    "df = pd.DataFrame({\n",
    "    \"Product Link\": productlinks,\n",
    "    \"Image Link\":images_links,\n",
    "    \"Price\":pricelist,\n",
    "    \"Product Name\":productnames})\n",
    "df.to_csv(\"NacloApparel.csv\",index=False)\n",
    "df"
   ]
  },
  {
   "cell_type": "code",
   "execution_count": null,
   "id": "aa209df8",
   "metadata": {},
   "outputs": [],
   "source": [
    "# scraping the product images"
   ]
  },
  {
   "cell_type": "code",
   "execution_count": 34,
   "id": "55b29571",
   "metadata": {},
   "outputs": [],
   "source": [
    "prodlinks = df['Image Link']\n",
    "for i in range(len(prodlinks)):\n",
    "    urllib.request.urlretrieve((\"https:\"+ prodlinks[i]), f\"./{i}.jpg\")"
   ]
  },
  {
   "cell_type": "code",
   "execution_count": null,
   "id": "0fa1037b",
   "metadata": {},
   "outputs": [],
   "source": [
    "# grayscaling and resizing the images"
   ]
  },
  {
   "cell_type": "code",
   "execution_count": 3,
   "id": "8e12c6ef",
   "metadata": {},
   "outputs": [
    {
     "name": "stdout",
     "output_type": "stream",
     "text": [
      "Original Dimensions :  (129, 180, 3)\n",
      "Gray Dimensions :  (129, 180)\n",
      "Gray & Resized Dimensions :  (28, 28)\n"
     ]
    },
    {
     "data": {
      "image/png": "[encoded data removed]",
      "text/plain": [
       "<Figure size 432x288 with 1 Axes>"
      ]
     },
     "metadata": {
      "needs_background": "light"
     },
     "output_type": "display_data"
    },
    {
     "name": "stdout",
     "output_type": "stream",
     "text": [
      "Original Dimensions :  (180, 180, 3)\n",
      "Gray Dimensions :  (180, 180)\n",
      "Gray & Resized Dimensions :  (28, 28)\n"
     ]
    },
    {
     "data": {
      "image/png": "[encoded data removed]",
      "text/plain": [
       "<Figure size 432x288 with 1 Axes>"
      ]
     },
     "metadata": {
      "needs_background": "light"
     },
     "output_type": "display_data"
    },
    {
     "name": "stdout",
     "output_type": "stream",
     "text": [
      "Original Dimensions :  (180, 180, 3)\n",
      "Gray Dimensions :  (180, 180)\n",
      "Gray & Resized Dimensions :  (28, 28)\n"
     ]
    },
    {
     "data": {
      "image/png": "[encoded data removed]",
      "text/plain": [
       "<Figure size 432x288 with 1 Axes>"
      ]
     },
     "metadata": {
      "needs_background": "light"
     },
     "output_type": "display_data"
    },
    {
     "name": "stdout",
     "output_type": "stream",
     "text": [
      "Original Dimensions :  (180, 180, 3)\n",
      "Gray Dimensions :  (180, 180)\n",
      "Gray & Resized Dimensions :  (28, 28)\n"
     ]
    },
    {
     "data": {
      "image/png": "[encoded data removed]",
      "text/plain": [
       "<Figure size 432x288 with 1 Axes>"
      ]
     },
     "metadata": {
      "needs_background": "light"
     },
     "output_type": "display_data"
    },
    {
     "name": "stdout",
     "output_type": "stream",
     "text": [
      "Original Dimensions :  (180, 180, 3)\n",
      "Gray Dimensions :  (180, 180)\n",
      "Gray & Resized Dimensions :  (28, 28)\n"
     ]
    },
    {
     "data": {
      "image/png": "[encoded data removed]",
      "text/plain": [
       "<Figure size 432x288 with 1 Axes>"
      ]
     },
     "metadata": {
      "needs_background": "light"
     },
     "output_type": "display_data"
    },
    {
     "name": "stdout",
     "output_type": "stream",
     "text": [
      "Original Dimensions :  (180, 180, 3)\n",
      "Gray Dimensions :  (180, 180)\n",
      "Gray & Resized Dimensions :  (28, 28)\n"
     ]
    },
    {
     "data": {
      "image/png": "[encoded data removed]",
      "text/plain": [
       "<Figure size 432x288 with 1 Axes>"
      ]
     },
     "metadata": {
      "needs_background": "light"
     },
     "output_type": "display_data"
    },
    {
     "name": "stdout",
     "output_type": "stream",
     "text": [
      "Original Dimensions :  (180, 180, 3)\n",
      "Gray Dimensions :  (180, 180)\n",
      "Gray & Resized Dimensions :  (28, 28)\n"
     ]
    },
    {
     "data": {
      "image/png": "[encoded data removed]",
      "text/plain": [
       "<Figure size 432x288 with 1 Axes>"
      ]
     },
     "metadata": {
      "needs_background": "light"
     },
     "output_type": "display_data"
    },
    {
     "name": "stdout",
     "output_type": "stream",
     "text": [
      "Original Dimensions :  (180, 180, 3)\n",
      "Gray Dimensions :  (180, 180)\n",
      "Gray & Resized Dimensions :  (28, 28)\n"
     ]
    },
    {
     "data": {
      "image/png": "[encoded data removed]",
      "text/plain": [
       "<Figure size 432x288 with 1 Axes>"
      ]
     },
     "metadata": {
      "needs_background": "light"
     },
     "output_type": "display_data"
    },
    {
     "name": "stdout",
     "output_type": "stream",
     "text": [
      "Original Dimensions :  (180, 180, 3)\n",
      "Gray Dimensions :  (180, 180)\n",
      "Gray & Resized Dimensions :  (28, 28)\n"
     ]
    },
    {
     "data": {
      "image/png": "[encoded data removed]",
      "text/plain": [
       "<Figure size 432x288 with 1 Axes>"
      ]
     },
     "metadata": {
      "needs_background": "light"
     },
     "output_type": "display_data"
    },
    {
     "name": "stdout",
     "output_type": "stream",
     "text": [
      "Original Dimensions :  (180, 180, 3)\n",
      "Gray Dimensions :  (180, 180)\n",
      "Gray & Resized Dimensions :  (28, 28)\n"
     ]
    },
    {
     "data": {
      "image/png": "[encoded data removed]",
      "text/plain": [
       "<Figure size 432x288 with 1 Axes>"
      ]
     },
     "metadata": {
      "needs_background": "light"
     },
     "output_type": "display_data"
    },
    {
     "name": "stdout",
     "output_type": "stream",
     "text": [
      "Original Dimensions :  (180, 180, 3)\n",
      "Gray Dimensions :  (180, 180)\n",
      "Gray & Resized Dimensions :  (28, 28)\n"
     ]
    },
    {
     "data": {
      "image/png": "[encoded data removed]",
      "text/plain": [
       "<Figure size 432x288 with 1 Axes>"
      ]
     },
     "metadata": {
      "needs_background": "light"
     },
     "output_type": "display_data"
    },
    {
     "name": "stdout",
     "output_type": "stream",
     "text": [
      "Original Dimensions :  (180, 180, 3)\n",
      "Gray Dimensions :  (180, 180)\n",
      "Gray & Resized Dimensions :  (28, 28)\n"
     ]
    },
    {
     "data": {
      "image/png": "[encoded data removed]",
      "text/plain": [
       "<Figure size 432x288 with 1 Axes>"
      ]
     },
     "metadata": {
      "needs_background": "light"
     },
     "output_type": "display_data"
    },
    {
     "name": "stdout",
     "output_type": "stream",
     "text": [
      "Original Dimensions :  (180, 180, 3)\n",
      "Gray Dimensions :  (180, 180)\n",
      "Gray & Resized Dimensions :  (28, 28)\n"
     ]
    },
    {
     "data": {
      "image/png": "[encoded data removed]",
      "text/plain": [
       "<Figure size 432x288 with 1 Axes>"
      ]
     },
     "metadata": {
      "needs_background": "light"
     },
     "output_type": "display_data"
    },
    {
     "name": "stdout",
     "output_type": "stream",
     "text": [
      "Original Dimensions :  (180, 180, 3)\n",
      "Gray Dimensions :  (180, 180)\n",
      "Gray & Resized Dimensions :  (28, 28)\n"
     ]
    },
    {
     "data": {
      "image/png": "[encoded data removed]",
      "text/plain": [
       "<Figure size 432x288 with 1 Axes>"
      ]
     },
     "metadata": {
      "needs_background": "light"
     },
     "output_type": "display_data"
    },
    {
     "name": "stdout",
     "output_type": "stream",
     "text": [
      "Original Dimensions :  (180, 180, 3)\n",
      "Gray Dimensions :  (180, 180)\n",
      "Gray & Resized Dimensions :  (28, 28)\n"
     ]
    },
    {
     "data": {
      "image/png": "[encoded data removed]",
      "text/plain": [
       "<Figure size 432x288 with 1 Axes>"
      ]
     },
     "metadata": {
      "needs_background": "light"
     },
     "output_type": "display_data"
    },
    {
     "name": "stdout",
     "output_type": "stream",
     "text": [
      "Original Dimensions :  (180, 180, 3)\n",
      "Gray Dimensions :  (180, 180)\n",
      "Gray & Resized Dimensions :  (28, 28)\n"
     ]
    },
    {
     "data": {
      "image/png": "[encoded data removed]",
      "text/plain": [
       "<Figure size 432x288 with 1 Axes>"
      ]
     },
     "metadata": {
      "needs_background": "light"
     },
     "output_type": "display_data"
    },
    {
     "name": "stdout",
     "output_type": "stream",
     "text": [
      "Original Dimensions :  (180, 180, 3)\n",
      "Gray Dimensions :  (180, 180)\n",
      "Gray & Resized Dimensions :  (28, 28)\n"
     ]
    },
    {
     "data": {
      "image/png": "[encoded data removed]",
      "text/plain": [
       "<Figure size 432x288 with 1 Axes>"
      ]
     },
     "metadata": {
      "needs_background": "light"
     },
     "output_type": "display_data"
    },
    {
     "name": "stdout",
     "output_type": "stream",
     "text": [
      "Original Dimensions :  (180, 180, 3)\n",
      "Gray Dimensions :  (180, 180)\n",
      "Gray & Resized Dimensions :  (28, 28)\n"
     ]
    },
    {
     "data": {
      "image/png": "[encoded data removed]",
      "text/plain": [
       "<Figure size 432x288 with 1 Axes>"
      ]
     },
     "metadata": {
      "needs_background": "light"
     },
     "output_type": "display_data"
    },
    {
     "name": "stdout",
     "output_type": "stream",
     "text": [
      "Original Dimensions :  (180, 180, 3)\n",
      "Gray Dimensions :  (180, 180)\n",
      "Gray & Resized Dimensions :  (28, 28)\n"
     ]
    },
    {
     "data": {
      "image/png": "[encoded data removed]",
      "text/plain": [
       "<Figure size 432x288 with 1 Axes>"
      ]
     },
     "metadata": {
      "needs_background": "light"
     },
     "output_type": "display_data"
    },
    {
     "name": "stdout",
     "output_type": "stream",
     "text": [
      "Original Dimensions :  (180, 180, 3)\n",
      "Gray Dimensions :  (180, 180)\n",
      "Gray & Resized Dimensions :  (28, 28)\n"
     ]
    },
    {
     "data": {
      "image/png": "[encoded data removed]",
      "text/plain": [
       "<Figure size 432x288 with 1 Axes>"
      ]
     },
     "metadata": {
      "needs_background": "light"
     },
     "output_type": "display_data"
    },
    {
     "name": "stdout",
     "output_type": "stream",
     "text": [
      "Original Dimensions :  (180, 180, 3)\n",
      "Gray Dimensions :  (180, 180)\n",
      "Gray & Resized Dimensions :  (28, 28)\n"
     ]
    },
    {
     "data": {
      "image/png": "[encoded data removed]",
      "text/plain": [
       "<Figure size 432x288 with 1 Axes>"
      ]
     },
     "metadata": {
      "needs_background": "light"
     },
     "output_type": "display_data"
    },
    {
     "name": "stdout",
     "output_type": "stream",
     "text": [
      "Original Dimensions :  (180, 180, 3)\n",
      "Gray Dimensions :  (180, 180)\n",
      "Gray & Resized Dimensions :  (28, 28)\n"
     ]
    },
    {
     "data": {
      "image/png": "[encoded data removed]",
      "text/plain": [
       "<Figure size 432x288 with 1 Axes>"
      ]
     },
     "metadata": {
      "needs_background": "light"
     },
     "output_type": "display_data"
    },
    {
     "name": "stdout",
     "output_type": "stream",
     "text": [
      "Original Dimensions :  (180, 180, 3)\n",
      "Gray Dimensions :  (180, 180)\n",
      "Gray & Resized Dimensions :  (28, 28)\n"
     ]
    },
    {
     "data": {
      "image/png": "[encoded data removed]",
      "text/plain": [
       "<Figure size 432x288 with 1 Axes>"
      ]
     },
     "metadata": {
      "needs_background": "light"
     },
     "output_type": "display_data"
    },
    {
     "name": "stdout",
     "output_type": "stream",
     "text": [
      "Original Dimensions :  (180, 180, 3)\n",
      "Gray Dimensions :  (180, 180)\n",
      "Gray & Resized Dimensions :  (28, 28)\n"
     ]
    },
    {
     "data": {
      "image/png": "[encoded data removed]",
      "text/plain": [
       "<Figure size 432x288 with 1 Axes>"
      ]
     },
     "metadata": {
      "needs_background": "light"
     },
     "output_type": "display_data"
    },
    {
     "name": "stdout",
     "output_type": "stream",
     "text": [
      "Original Dimensions :  (180, 180, 3)\n",
      "Gray Dimensions :  (180, 180)\n",
      "Gray & Resized Dimensions :  (28, 28)\n"
     ]
    },
    {
     "data": {
      "image/png": "[encoded data removed]",
      "text/plain": [
       "<Figure size 432x288 with 1 Axes>"
      ]
     },
     "metadata": {
      "needs_background": "light"
     },
     "output_type": "display_data"
    },
    {
     "name": "stdout",
     "output_type": "stream",
     "text": [
      "Original Dimensions :  (180, 180, 3)\n",
      "Gray Dimensions :  (180, 180)\n",
      "Gray & Resized Dimensions :  (28, 28)\n"
     ]
    },
    {
     "data": {
      "image/png": "[encoded data removed]",
      "text/plain": [
       "<Figure size 432x288 with 1 Axes>"
      ]
     },
     "metadata": {
      "needs_background": "light"
     },
     "output_type": "display_data"
    },
    {
     "name": "stdout",
     "output_type": "stream",
     "text": [
      "Original Dimensions :  (180, 180, 3)\n",
      "Gray Dimensions :  (180, 180)\n",
      "Gray & Resized Dimensions :  (28, 28)\n"
     ]
    },
    {
     "data": {
      "image/png": "[encoded data removed]",
      "text/plain": [
       "<Figure size 432x288 with 1 Axes>"
      ]
     },
     "metadata": {
      "needs_background": "light"
     },
     "output_type": "display_data"
    },
    {
     "name": "stdout",
     "output_type": "stream",
     "text": [
      "Original Dimensions :  (180, 180, 3)\n",
      "Gray Dimensions :  (180, 180)\n",
      "Gray & Resized Dimensions :  (28, 28)\n"
     ]
    },
    {
     "data": {
      "image/png": "[encoded data removed]",
      "text/plain": [
       "<Figure size 432x288 with 1 Axes>"
      ]
     },
     "metadata": {
      "needs_background": "light"
     },
     "output_type": "display_data"
    },
    {
     "name": "stdout",
     "output_type": "stream",
     "text": [
      "Original Dimensions :  (180, 180, 3)\n",
      "Gray Dimensions :  (180, 180)\n",
      "Gray & Resized Dimensions :  (28, 28)\n"
     ]
    },
    {
     "data": {
      "image/png": "[encoded data removed]",
      "text/plain": [
       "<Figure size 432x288 with 1 Axes>"
      ]
     },
     "metadata": {
      "needs_background": "light"
     },
     "output_type": "display_data"
    },
    {
     "name": "stdout",
     "output_type": "stream",
     "text": [
      "Original Dimensions :  (180, 180, 3)\n",
      "Gray Dimensions :  (180, 180)\n",
      "Gray & Resized Dimensions :  (28, 28)\n"
     ]
    },
    {
     "data": {
      "image/png": "[encoded data removed]",
      "text/plain": [
       "<Figure size 432x288 with 1 Axes>"
      ]
     },
     "metadata": {
      "needs_background": "light"
     },
     "output_type": "display_data"
    }
   ],
   "source": [
    "import cv2\n",
    "\n",
    "\n",
    "for i in range(30):\n",
    "    img = cv2.imread(f'{i}.jpg')\n",
    "    print('Original Dimensions : ',img.shape)\n",
    "    \n",
    "    gray = cv2.cvtColor(img, cv2.COLOR_RGB2GRAY)\n",
    "    print('Gray Dimensions : ',gray.shape)\n",
    "    \n",
    "    gray_resized = cv2.resize(gray, (28, 28))\n",
    "    print('Gray & Resized Dimensions : ',gray_resized.shape)\n",
    "    \n",
    "    from matplotlib import pyplot as plt\n",
    "    plt.imshow(gray_resized, cmap=plt.cm.gray)\n",
    "    plt.show()\n",
    "    \n",
    "    cv2.imwrite(f'{i+100}_grayresized.jpg', gray_resized)\n"
   ]
  }
 ],
 "metadata": {
  "kernelspec": {
   "display_name": "Python 3 (ipykernel)",
   "language": "python",
   "name": "python3"
  },
  "language_info": {
   "codemirror_mode": {
    "name": "ipython",
    "version": 3
   },
   "file_extension": ".py",
   "mimetype": "text/x-python",
   "name": "python",
   "nbconvert_exporter": "python",
   "pygments_lexer": "ipython3",
   "version": "3.9.12"
  },
  "toc": {
   "base_numbering": 1,
   "nav_menu": {},
   "number_sections": true,
   "sideBar": true,
   "skip_h1_title": false,
   "title_cell": "Table of Contents",
   "title_sidebar": "Contents",
   "toc_cell": false,
   "toc_position": {},
   "toc_section_display": true,
   "toc_window_display": false
  }
 },
 "nbformat": 4,
 "nbformat_minor": 5
}
